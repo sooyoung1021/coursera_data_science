{
 "cells": [
  {
   "cell_type": "markdown",
   "id": "850d9d57-7ea7-486c-8e0d-3918c888fb47",
   "metadata": {},
   "source": [
    "# Data Science Tools and Ecosystem"
   ]
  },
  {
   "cell_type": "markdown",
   "id": "8f7da354-b102-45de-9cdb-45b7d7aec6ad",
   "metadata": {},
   "source": [
    "## Author\n",
    "Sooyoung Kim"
   ]
  },
  {
   "cell_type": "markdown",
   "id": "1a29a267-fd5e-4e2e-a86a-00f6c68d8a6f",
   "metadata": {},
   "source": [
    "In this notebook, Data Science Tools and Ecosystem are summarized"
   ]
  },
  {
   "cell_type": "markdown",
   "id": "f0860774-505a-44d8-b1a0-52ddbce1ffeb",
   "metadata": {},
   "source": [
    "__Objectives:__\n",
    "* List popular languages for Data Science\n",
    "* List commonly used libraries used by Data Scientists\n",
    "* List popular open-source Data Science development tools"
   ]
  },
  {
   "cell_type": "code",
   "execution_count": null,
   "id": "90919009-c4dc-4aa8-b6b8-3887d8f5cb0e",
   "metadata": {},
   "outputs": [],
   "source": []
  },
  {
   "cell_type": "markdown",
   "id": "cd4035e0-0b67-48f1-9004-be2e1bc63924",
   "metadata": {},
   "source": [
    "Some of the popular languages that Data Scientists use are:\n",
    "1. R\n",
    "2. Python\n",
    "3. Scala\n",
    "4. Java\n",
    "5. Java Script\n",
    "6. C++"
   ]
  },
  {
   "cell_type": "markdown",
   "id": "c87bab2c-2ab4-4783-8a8a-d62951dd3b16",
   "metadata": {},
   "source": [
    "Some of the commonly used libraries used by Data Scientists include:\n",
    "1. panda (python)\n",
    "2. numpy (python)\n",
    "3. Matplotlib (python)\n",
    "4. scikit-learn (python)\n",
    "5. ggplot2 (R)\n",
    "6. caret (R)"
   ]
  },
  {
   "cell_type": "markdown",
   "id": "8bbe5026-507b-4d10-8bab-660564c2b29e",
   "metadata": {},
   "source": [
    "|Data Science Tools|\n",
    "|------------------|\n",
    "|Jupyter notebook|\n",
    "|R studio|\n",
    "|TensorFlow|\n"
   ]
  },
  {
   "cell_type": "markdown",
   "id": "2f9087fe-98fe-4acb-bef2-84fda1a97059",
   "metadata": {},
   "source": [
    "### Below are a few examples of evaluating arithmetic expressions in Python."
   ]
  },
  {
   "cell_type": "code",
   "execution_count": 2,
   "id": "303f86ea-75e5-4d5d-8e2b-61068746e8da",
   "metadata": {},
   "outputs": [
    {
     "data": {
      "text/plain": [
       "17"
      ]
     },
     "execution_count": 2,
     "metadata": {},
     "output_type": "execute_result"
    }
   ],
   "source": [
    "(3*4)+5\n",
    "# This is a simple arithmetic expression to multiply then add integers."
   ]
  },
  {
   "cell_type": "code",
   "execution_count": 3,
   "id": "b279fecc-ef5f-411e-8515-9fc7c98657b3",
   "metadata": {},
   "outputs": [
    {
     "name": "stdout",
     "output_type": "stream",
     "text": [
      "3.3333333333333335 minutes\n"
     ]
    }
   ],
   "source": [
    "# This will convert 200 minutes to hours by diviting by 60\n",
    "min = 200/60\n",
    "print(min, \"minutes\")"
   ]
  }
 ],
 "metadata": {
  "kernelspec": {
   "display_name": "Python 3 (ipykernel)",
   "language": "python",
   "name": "python3"
  },
  "language_info": {
   "codemirror_mode": {
    "name": "ipython",
    "version": 3
   },
   "file_extension": ".py",
   "mimetype": "text/x-python",
   "name": "python",
   "nbconvert_exporter": "python",
   "pygments_lexer": "ipython3",
   "version": "3.12.8"
  }
 },
 "nbformat": 4,
 "nbformat_minor": 5
}
